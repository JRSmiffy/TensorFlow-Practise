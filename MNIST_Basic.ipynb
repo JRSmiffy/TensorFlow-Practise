{
  "nbformat": 4,
  "nbformat_minor": 0,
  "metadata": {
    "colab": {
      "name": "MNIST_Basic.ipynb",
      "version": "0.3.2",
      "provenance": [],
      "collapsed_sections": [],
      "toc_visible": true,
      "include_colab_link": true
    },
    "kernelspec": {
      "name": "python3",
      "display_name": "Python 3"
    }
  },
  "cells": [
    {
      "cell_type": "markdown",
      "metadata": {
        "id": "view-in-github",
        "colab_type": "text"
      },
      "source": [
        "<a href=\"https://colab.research.google.com/github/JRSmiffy/TensorFlow-Practise/blob/master/MNIST_Basic.ipynb\" target=\"_parent\"><img src=\"https://colab.research.google.com/assets/colab-badge.svg\" alt=\"Open In Colab\"/></a>"
      ]
    },
    {
      "cell_type": "markdown",
      "metadata": {
        "id": "00IvMaasOlzf",
        "colab_type": "text"
      },
      "source": [
        "# MNIST Basic Approach (Softmax)"
      ]
    },
    {
      "cell_type": "code",
      "metadata": {
        "id": "tmnxLWeQOcdy",
        "colab_type": "code",
        "colab": {}
      },
      "source": [
        "import tensorflow as tf"
      ],
      "execution_count": 0,
      "outputs": []
    },
    {
      "cell_type": "code",
      "metadata": {
        "id": "bKIWwwg1Ot0k",
        "colab_type": "code",
        "colab": {}
      },
      "source": [
        "from tensorflow.examples.tutorials.mnist import input_data"
      ],
      "execution_count": 0,
      "outputs": []
    },
    {
      "cell_type": "code",
      "metadata": {
        "id": "9rJsF8qJO0DF",
        "colab_type": "code",
        "outputId": "217231d2-849e-4a81-d471-e41f6aa2b21c",
        "colab": {
          "base_uri": "https://localhost:8080/",
          "height": 85
        }
      },
      "source": [
        "mnist = input_data.read_data_sets(\"MNIST_data/\",one_hot=True) # now data will already be one hot encoded"
      ],
      "execution_count": 63,
      "outputs": [
        {
          "output_type": "stream",
          "text": [
            "Extracting MNIST_data/train-images-idx3-ubyte.gz\n",
            "Extracting MNIST_data/train-labels-idx1-ubyte.gz\n",
            "Extracting MNIST_data/t10k-images-idx3-ubyte.gz\n",
            "Extracting MNIST_data/t10k-labels-idx1-ubyte.gz\n"
          ],
          "name": "stdout"
        }
      ]
    },
    {
      "cell_type": "code",
      "metadata": {
        "id": "nhk-xjy0PB0S",
        "colab_type": "code",
        "outputId": "35b72834-4a8f-4169-9057-82c906fa3dc7",
        "colab": {
          "base_uri": "https://localhost:8080/",
          "height": 136
        }
      },
      "source": [
        "mnist.train.images"
      ],
      "execution_count": 64,
      "outputs": [
        {
          "output_type": "execute_result",
          "data": {
            "text/plain": [
              "array([[0., 0., 0., ..., 0., 0., 0.],\n",
              "       [0., 0., 0., ..., 0., 0., 0.],\n",
              "       [0., 0., 0., ..., 0., 0., 0.],\n",
              "       ...,\n",
              "       [0., 0., 0., ..., 0., 0., 0.],\n",
              "       [0., 0., 0., ..., 0., 0., 0.],\n",
              "       [0., 0., 0., ..., 0., 0., 0.]], dtype=float32)"
            ]
          },
          "metadata": {
            "tags": []
          },
          "execution_count": 64
        }
      ]
    },
    {
      "cell_type": "code",
      "metadata": {
        "id": "ATdM9CfxPVuj",
        "colab_type": "code",
        "colab": {}
      },
      "source": [
        "import matplotlib.pyplot as plt"
      ],
      "execution_count": 0,
      "outputs": []
    },
    {
      "cell_type": "code",
      "metadata": {
        "id": "rU-D63ArPd4c",
        "colab_type": "code",
        "colab": {}
      },
      "source": [
        "%matplotlib inline"
      ],
      "execution_count": 0,
      "outputs": []
    },
    {
      "cell_type": "code",
      "metadata": {
        "id": "1ZWQPEJ3PhTI",
        "colab_type": "code",
        "colab": {}
      },
      "source": [
        "single_image = mnist.train.images[400].reshape(28,28)"
      ],
      "execution_count": 0,
      "outputs": []
    },
    {
      "cell_type": "code",
      "metadata": {
        "id": "uhZcvXE_Pv2Q",
        "colab_type": "code",
        "outputId": "24f15744-5a60-4fbf-d738-3f7670cc297d",
        "colab": {
          "base_uri": "https://localhost:8080/",
          "height": 286
        }
      },
      "source": [
        "plt.imshow(single_image, cmap='gist_gray')"
      ],
      "execution_count": 217,
      "outputs": [
        {
          "output_type": "execute_result",
          "data": {
            "text/plain": [
              "<matplotlib.image.AxesImage at 0x7f3f07fdf470>"
            ]
          },
          "metadata": {
            "tags": []
          },
          "execution_count": 217
        },
        {
          "output_type": "display_data",
          "data": {
            "image/png": "[encoded data removed]",
            "text/plain": [
              "<Figure size 432x288 with 1 Axes>"
            ]
          },
          "metadata": {
            "tags": []
          }
        }
      ]
    },
    {
      "cell_type": "code",
      "metadata": {
        "id": "kZECGhmvPypY",
        "colab_type": "code",
        "colab": {}
      },
      "source": [
        "# PLACEHOLDER"
      ],
      "execution_count": 0,
      "outputs": []
    },
    {
      "cell_type": "code",
      "metadata": {
        "id": "hhMPhkVWQlqp",
        "colab_type": "code",
        "colab": {}
      },
      "source": [
        "x = tf.placeholder(tf.float32,shape=[None,784])"
      ],
      "execution_count": 0,
      "outputs": []
    },
    {
      "cell_type": "code",
      "metadata": {
        "id": "7u1EYzWXQQ-w",
        "colab_type": "code",
        "colab": {}
      },
      "source": [
        "# VARIABLES"
      ],
      "execution_count": 0,
      "outputs": []
    },
    {
      "cell_type": "code",
      "metadata": {
        "id": "JO_fKuCOQtTK",
        "colab_type": "code",
        "colab": {}
      },
      "source": [
        "w = tf.Variable(tf.zeros([784,10]))\n",
        "b = tf.Variable(tf.zeros([10]))"
      ],
      "execution_count": 0,
      "outputs": []
    },
    {
      "cell_type": "code",
      "metadata": {
        "id": "9jrda0PuQSIP",
        "colab_type": "code",
        "colab": {}
      },
      "source": [
        "# GRAPH OPERATIONS"
      ],
      "execution_count": 0,
      "outputs": []
    },
    {
      "cell_type": "code",
      "metadata": {
        "id": "ZzjfaODgQ5pq",
        "colab_type": "code",
        "colab": {}
      },
      "source": [
        "y = tf.matmul(x,w) + b"
      ],
      "execution_count": 0,
      "outputs": []
    },
    {
      "cell_type": "code",
      "metadata": {
        "id": "A2U7YkgPQT4k",
        "colab_type": "code",
        "colab": {}
      },
      "source": [
        "# LOSS FUNCTION"
      ],
      "execution_count": 0,
      "outputs": []
    },
    {
      "cell_type": "code",
      "metadata": {
        "id": "QyFgFieGRE3C",
        "colab_type": "code",
        "colab": {}
      },
      "source": [
        "y_true = tf.placeholder(tf.float32, [None,10]) # Placeholder"
      ],
      "execution_count": 0,
      "outputs": []
    },
    {
      "cell_type": "code",
      "metadata": {
        "id": "hMy9XNHNRJze",
        "colab_type": "code",
        "colab": {}
      },
      "source": [
        "cross_entropy = tf.reduce_mean(tf.nn.softmax_cross_entropy_with_logits(labels = y_true, logits = y))"
      ],
      "execution_count": 0,
      "outputs": []
    },
    {
      "cell_type": "code",
      "metadata": {
        "id": "PDsqLR2CQWfk",
        "colab_type": "code",
        "colab": {}
      },
      "source": [
        "# OPTIMIZER\n",
        "optimizer = tf.train.GradientDescentOptimizer(learning_rate = 0.5)\n",
        "train = optimizer.minimize(cross_entropy)"
      ],
      "execution_count": 0,
      "outputs": []
    },
    {
      "cell_type": "code",
      "metadata": {
        "id": "BQg1j_PAQcpJ",
        "colab_type": "code",
        "colab": {}
      },
      "source": [
        "# CREATE SESSION\n",
        "init = tf.global_variables_initializer()"
      ],
      "execution_count": 0,
      "outputs": []
    },
    {
      "cell_type": "code",
      "metadata": {
        "id": "cf98UDddiDj9",
        "colab_type": "code",
        "colab": {}
      },
      "source": [
        "saver = tf.train.Saver()"
      ],
      "execution_count": 0,
      "outputs": []
    },
    {
      "cell_type": "code",
      "metadata": {
        "id": "o_A0pCM-QjDy",
        "colab_type": "code",
        "outputId": "c64e5b4c-f5fd-4486-ef44-441e6a5b67bc",
        "colab": {
          "base_uri": "https://localhost:8080/",
          "height": 34
        }
      },
      "source": [
        "with tf.Session() as sess:\n",
        "  \n",
        "  sess.run(init)\n",
        "  \n",
        "  for step in range(1000):\n",
        "    \n",
        "    batch_x, batch_y = mnist.train.next_batch(100)\n",
        "    \n",
        "    sess.run(train, feed_dict={x:batch_x, y_true:batch_y})\n",
        "  \n",
        "    \n",
        "  # EVALUATE MODEL\n",
        "  correct_prediction = tf.equal(tf.argmax(y,1), tf.argmax(y_true,1))\n",
        "  \n",
        "  # [True, False, False, ...] ---> [1,0,0,...]\n",
        "  acc = tf.reduce_mean(tf.cast(correct_prediction, tf.float32))\n",
        "  \n",
        "  print(sess.run(acc, feed_dict={x:mnist.test.images, y_true:mnist.test.labels}))\n",
        "  \n",
        "  saver.save(sess,'models/mnist_basic.ckpt')\n",
        "    "
      ],
      "execution_count": 127,
      "outputs": [
        {
          "output_type": "stream",
          "text": [
            "0.9154\n"
          ],
          "name": "stdout"
        }
      ]
    },
    {
      "cell_type": "code",
      "metadata": {
        "id": "4T3tOBzeVtA4",
        "colab_type": "code",
        "colab": {}
      },
      "source": [
        "### Now I want to give it a test run\n",
        "# Save and Restore the model\n",
        "# Pass in the column vector (784,1) \n",
        "# Have TF spit out the correct digit \n",
        "\n",
        "# Photo process:\n",
        "# Take photo on phone, convert to grayscale, convert to 28px x 28px, convert to grid of grayscale values between 0 and 1, then convert to column vector"
      ],
      "execution_count": 0,
      "outputs": []
    },
    {
      "cell_type": "code",
      "metadata": {
        "id": "aO5DCWBHT9yR",
        "colab_type": "code",
        "outputId": "ba12a816-982b-4d44-d92c-63bf2d15daa1",
        "colab": {
          "base_uri": "https://localhost:8080/",
          "height": 34
        }
      },
      "source": [
        "from google.colab import drive\n",
        "drive.mount('/content/drive')"
      ],
      "execution_count": 83,
      "outputs": [
        {
          "output_type": "stream",
          "text": [
            "Drive already mounted at /content/drive; to attempt to forcibly remount, call drive.mount(\"/content/drive\", force_remount=True).\n"
          ],
          "name": "stdout"
        }
      ]
    },
    {
      "cell_type": "code",
      "metadata": {
        "id": "Kt7b9ztHTOmd",
        "colab_type": "code",
        "colab": {}
      },
      "source": [
        "import matplotlib.image as img\n",
        "image = img.imread('/content/drive/My Drive/seven.jpg')"
      ],
      "execution_count": 0,
      "outputs": []
    },
    {
      "cell_type": "code",
      "metadata": {
        "id": "-EzIA8hqioSi",
        "colab_type": "code",
        "colab": {
          "base_uri": "https://localhost:8080/",
          "height": 286
        },
        "outputId": "4de5a9b3-ea58-497e-dc81-203d0c8f180e"
      },
      "source": [
        "plt.imshow(image, cmap='gist_gray')"
      ],
      "execution_count": 98,
      "outputs": [
        {
          "output_type": "execute_result",
          "data": {
            "text/plain": [
              "<matplotlib.image.AxesImage at 0x7f3f08a37860>"
            ]
          },
          "metadata": {
            "tags": []
          },
          "execution_count": 98
        },
        {
          "output_type": "display_data",
          "data": {
            "image/png": "[encoded data removed]",
            "text/plain": [
              "<Figure size 432x288 with 1 Axes>"
            ]
          },
          "metadata": {
            "tags": []
          }
        }
      ]
    },
    {
      "cell_type": "code",
      "metadata": {
        "id": "Nvzzjt1RTPiL",
        "colab_type": "code",
        "outputId": "09b9017f-ddab-447e-8301-f370ba403118",
        "colab": {
          "base_uri": "https://localhost:8080/",
          "height": 34
        }
      },
      "source": [
        "print(image.shape)"
      ],
      "execution_count": 99,
      "outputs": [
        {
          "output_type": "stream",
          "text": [
            "(28, 28, 3)\n"
          ],
          "name": "stdout"
        }
      ]
    },
    {
      "cell_type": "code",
      "metadata": {
        "id": "_o7EOVduVjAW",
        "colab_type": "code",
        "outputId": "14698361-4770-47d2-87e9-d6e3052bee7d",
        "colab": {
          "base_uri": "https://localhost:8080/",
          "height": 493
        }
      },
      "source": [
        "print(image[0]) # for each [r g b] -> convert using formula to a single grayscale value"
      ],
      "execution_count": 100,
      "outputs": [
        {
          "output_type": "stream",
          "text": [
            "[[252 252 252]\n",
            " [255 255 255]\n",
            " [250 250 250]\n",
            " [255 255 255]\n",
            " [255 255 255]\n",
            " [247 247 247]\n",
            " [255 255 255]\n",
            " [255 255 255]\n",
            " [255 255 255]\n",
            " [252 252 252]\n",
            " [244 244 244]\n",
            " [255 255 255]\n",
            " [240 240 240]\n",
            " [248 248 248]\n",
            " [255 255 255]\n",
            " [251 251 251]\n",
            " [254 254 254]\n",
            " [255 255 255]\n",
            " [255 255 255]\n",
            " [239 239 239]\n",
            " [250 250 250]\n",
            " [255 255 255]\n",
            " [255 255 255]\n",
            " [255 255 255]\n",
            " [255 255 255]\n",
            " [255 255 255]\n",
            " [255 255 255]\n",
            " [255 255 255]]\n"
          ],
          "name": "stdout"
        }
      ]
    },
    {
      "cell_type": "code",
      "metadata": {
        "id": "Ecu3__kpVjHW",
        "colab_type": "code",
        "outputId": "b042e7c5-5d39-4cb8-923c-ef39657ba9bc",
        "colab": {
          "base_uri": "https://localhost:8080/",
          "height": 34
        }
      },
      "source": [
        "image[0][0]"
      ],
      "execution_count": 101,
      "outputs": [
        {
          "output_type": "execute_result",
          "data": {
            "text/plain": [
              "array([252, 252, 252], dtype=uint8)"
            ]
          },
          "metadata": {
            "tags": []
          },
          "execution_count": 101
        }
      ]
    },
    {
      "cell_type": "code",
      "metadata": {
        "id": "5ZND7-_YVjJ_",
        "colab_type": "code",
        "colab": {}
      },
      "source": [
        "flat_arr = []\n",
        "for i in range(0,28):\n",
        "    for j in range(0,28):\n",
        "        flat_arr.append(1 - (sum(image[i][j])/ (3*255)))"
      ],
      "execution_count": 0,
      "outputs": []
    },
    {
      "cell_type": "code",
      "metadata": {
        "id": "e9l7hWZlVjMc",
        "colab_type": "code",
        "outputId": "57129a60-9ea7-4b2a-88fd-2f1e8c1a60f0",
        "colab": {
          "base_uri": "https://localhost:8080/",
          "height": 91
        }
      },
      "source": [
        "print(flat_arr)\n",
        "print(len(flat_arr))"
      ],
      "execution_count": 103,
      "outputs": [
        {
          "output_type": "stream",
          "text": [
            "[0.0117647058823529, 0.0, 0.019607843137254943, 0.0, 0.0, 0.03137254901960784, 0.0, 0.0, 0.0, 0.0117647058823529, 0.04313725490196074, 0.0, 0.05882352941176472, 0.027450980392156876, 0.0, 0.015686274509803977, 0.0039215686274509665, 0.0, 0.0, 0.06274509803921569, 0.019607843137254943, 0.0, 0.0, 0.0, 0.0, 0.0, 0.0, 0.0, 0.0, 0.0, 0.027450980392156876, 0.03137254901960784, 0.039215686274509776, 0.03137254901960784, 0.0, 0.0, 0.02352941176470591, 0.0, 0.03529411764705881, 0.0, 0.0, 0.0, 0.04705882352941182, 0.02352941176470591, 0.0, 0.027450980392156876, 0.0, 0.0, 0.0039215686274509665, 0.0117647058823529, 0.0117647058823529, 0.0, 0.0, 0.0, 0.0, 0.0, 0.03137254901960784, 0.0, 0.007843137254901933, 0.0, 0.0, 0.0, 0.0, 0.14509803921568631, 0.19215686274509802, 0.07843137254901966, 0.0039215686274509665, 0.039215686274509776, 0.0, 0.0, 0.0117647058823529, 0.0, 0.0, 0.0, 0.0, 0.007843137254901933, 0.0, 0.04705882352941182, 0.0, 0.0, 0.0, 0.0, 0.0, 0.0, 0.02352941176470591, 0.0, 0.0039215686274509665, 0.0, 0.0, 0.02352941176470591, 0.23921568627450984, 0.6274509803921569, 0.7568627450980392, 0.5019607843137255, 0.027450980392156876, 0.0, 0.027450980392156876, 0.015686274509803977, 0.0039215686274509665, 0.04705882352941182, 0.050980392156862786, 0.0, 0.09019607843137256, 0.32156862745098036, 0.12941176470588234, 0.07058823529411762, 0.0, 0.0, 0.0, 0.0, 0.0, 0.0, 0.0, 0.0, 0.03137254901960784, 0.019607843137254943, 0.0039215686274509665, 0.04705882352941182, 0.3803921568627451, 0.9333333333333333, 1.0, 0.603921568627451, 0.027450980392156876, 0.0, 0.0, 0.0, 0.0, 0.039215686274509776, 0.0, 0.10588235294117643, 0.592156862745098, 0.9058823529411765, 0.8901960784313725, 0.3686274509803922, 0.04705882352941182, 0.0, 0.0, 0.0, 0.0, 0.0, 0.0, 0.0117647058823529, 0.02352941176470591, 0.0, 0.0, 0.007843137254901933, 0.37254901960784315, 0.9921568627450981, 0.6901960784313725, 0.22352941176470587, 0.0, 0.03529411764705881, 0.0, 0.09019607843137256, 0.28627450980392155, 0.3254901960784313, 0.6862745098039216, 0.8862745098039215, 0.9843137254901961, 0.7764705882352941, 0.8705882352941177, 0.17647058823529416, 0.0, 0.007843137254901933, 0.0, 0.0, 0.0, 0.0, 0.0, 0.0, 0.0, 0.0, 0.007843137254901933, 0.03529411764705881, 0.3294117647058824, 0.9019607843137255, 0.7725490196078432, 0.4274509803921569, 0.403921568627451, 0.45882352941176474, 0.4862745098039216, 0.6549019607843137, 0.8784313725490196, 0.9019607843137255, 0.8549019607843137, 0.9921568627450981, 0.7137254901960784, 0.4627450980392157, 0.38431372549019605, 0.0, 0.0, 0.050980392156862786, 0.0, 0.0, 0.0, 0.0, 0.0, 0.0039215686274509665, 0.0117647058823529, 0.007843137254901933, 0.0117647058823529, 0.0, 0.039215686274509776, 0.4745098039215686, 0.8156862745098039, 0.7137254901960784, 0.7843137254901961, 0.6980392156862745, 0.7215686274509804, 0.603921568627451, 0.4, 0.2705882352941177, 0.8509803921568627, 0.8666666666666667, 0.42352941176470593, 0.5019607843137255, 0.019607843137254943, 0.0, 0.0117647058823529, 0.0, 0.0, 0.0, 0.0, 0.0, 0.0, 0.0, 0.0, 0.0, 0.0, 0.0, 0.0, 0.0, 0.207843137254902, 0.22352941176470587, 0.29803921568627456, 0.23529411764705888, 0.09019607843137256, 0.027450980392156876, 0.03137254901960784, 0.6274509803921569, 1.0, 0.40784313725490196, 0.5529411764705883, 0.09411764705882353, 0.027450980392156876, 0.0, 0.0117647058823529, 0.0, 0.0, 0.0, 0.0, 0.0, 0.0, 0.0, 0.0, 0.0, 0.0, 0.0, 0.0, 0.0, 0.0, 0.027450980392156876, 0.0, 0.007843137254901933, 0.0117647058823529, 0.0, 0.3764705882352941, 0.9450980392156862, 0.6392156862745098, 0.4549019607843138, 0.3411764705882353, 0.0, 0.019607843137254943, 0.0, 0.0, 0.019607843137254943, 0.0, 0.0, 0.0, 0.0, 0.0, 0.0, 0.0, 0.0, 0.0, 0.0, 0.0, 0.0, 0.007843137254901933, 0.050980392156862786, 0.0, 0.0, 0.0, 0.11764705882352944, 0.7725490196078432, 0.9333333333333333, 0.45882352941176474, 0.42352941176470593, 0.09019607843137256, 0.0, 0.02352941176470591, 0.007843137254901933, 0.0, 0.027450980392156876, 0.0, 0.0, 0.0, 0.0, 0.0, 0.0, 0.0, 0.0, 0.0, 0.0, 0.0, 0.0, 0.0117647058823529, 0.0, 0.019607843137254943, 0.0, 0.019607843137254943, 0.49411764705882355, 0.9764705882352941, 0.6196078431372549, 0.5686274509803921, 0.24705882352941178, 0.0, 0.03529411764705881, 0.015686274509803977, 0.0, 0.027450980392156876, 0.0, 0.0, 0.0, 0.0, 0.0, 0.0, 0.0, 0.0, 0.0, 0.0, 0.0, 0.0, 0.0, 0.0, 0.0, 0.02352941176470591, 0.0, 0.18039215686274512, 0.8470588235294118, 0.8666666666666667, 0.4784313725490196, 0.5098039215686274, 0.050980392156862786, 0.0, 0.05490196078431375, 0.007843137254901933, 0.0, 0.02352941176470591, 0.0, 0.0, 0.0, 0.0, 0.0, 0.0, 0.0, 0.0, 0.0, 0.0, 0.0, 0.0, 0.0, 0.027450980392156876, 0.04313725490196074, 0.0117647058823529, 0.039215686274509776, 0.5137254901960784, 0.9843137254901961, 0.6352941176470588, 0.5725490196078431, 0.20392156862745103, 0.0, 0.019607843137254943, 0.0, 0.027450980392156876, 0.0, 0.0, 0.0117647058823529, 0.0, 0.0, 0.0, 0.0, 0.0, 0.0, 0.0, 0.0, 0.0, 0.0, 0.0, 0.0, 0.0, 0.0039215686274509665, 0.0, 0.22352941176470587, 0.8313725490196078, 0.9137254901960784, 0.5411764705882354, 0.5019607843137255, 0.0039215686274509665, 0.0117647058823529, 0.039215686274509776, 0.0, 0.019607843137254943, 0.015686274509803977, 0.0, 0.02352941176470591, 0.0, 0.0, 0.0, 0.0, 0.0, 0.0, 0.0, 0.0, 0.0, 0.0, 0.0, 0.0, 0.02352941176470591, 0.007843137254901933, 0.0, 0.4862745098039216, 1.0, 0.8, 0.5215686274509803, 0.18039215686274512, 0.0117647058823529, 0.007843137254901933, 0.0, 0.0039215686274509665, 0.0, 0.0, 0.03137254901960784, 0.0, 0.0, 0.0, 0.0, 0.0, 0.0, 0.0, 0.0, 0.0, 0.0, 0.0, 0.0, 0.0, 0.015686274509803977, 0.019607843137254943, 0.050980392156862786, 0.803921568627451, 0.9254901960784314, 0.6431372549019607, 0.4901960784313726, 0.04705882352941182, 0.0, 0.0, 0.0, 0.0, 0.0, 0.0, 0.0, 0.0, 0.0, 0.0, 0.0, 0.0, 0.0, 0.0, 0.0, 0.0, 0.0, 0.0, 0.0, 0.0, 0.0, 0.03137254901960784, 0.2313725490196078, 0.9294117647058824, 0.8588235294117648, 0.6431372549019607, 0.32156862745098036, 0.0, 0.0, 0.0, 0.0, 0.0, 0.0, 0.0, 0.0, 0.0, 0.0, 0.0, 0.0, 0.0, 0.0, 0.0, 0.0, 0.0, 0.0, 0.0, 0.0, 0.0, 0.0, 0.04705882352941182, 0.48235294117647054, 1.0, 0.7411764705882353, 0.6274509803921569, 0.12941176470588234, 0.0, 0.0, 0.0, 0.0, 0.0, 0.0, 0.0, 0.0, 0.0, 0.0, 0.0, 0.0, 0.0, 0.0, 0.0, 0.0, 0.0, 0.0, 0.0, 0.0, 0.0, 0.007843137254901933, 0.04705882352941182, 0.6784313725490196, 0.9568627450980393, 0.6392156862745098, 0.5647058823529412, 0.02352941176470591, 0.0117647058823529, 0.0, 0.0, 0.0, 0.0, 0.0, 0.0, 0.0, 0.0, 0.0, 0.0, 0.0, 0.0, 0.0, 0.0, 0.0, 0.0, 0.0, 0.0, 0.0, 0.0, 0.015686274509803977, 0.05490196078431375, 0.7803921568627451, 0.807843137254902, 0.6, 0.4509803921568627, 0.0, 0.019607843137254943, 0.0, 0.0, 0.0, 0.0, 0.0, 0.0, 0.0, 0.0, 0.0, 0.0, 0.0, 0.0, 0.0, 0.0, 0.0, 0.0, 0.0, 0.0, 0.0, 0.0, 0.0, 0.13725490196078427, 0.8313725490196078, 0.6980392156862745, 0.607843137254902, 0.3058823529411765, 0.0, 0.0, 0.0, 0.0, 0.0, 0.0, 0.0, 0.0, 0.0, 0.0, 0.0, 0.0, 0.0, 0.0, 0.0, 0.0, 0.0, 0.0, 0.0, 0.0, 0.0, 0.0, 0.0, 0.3137254901960784, 0.8705882352941177, 0.6745098039215687, 0.607843137254902, 0.16470588235294115, 0.0, 0.0, 0.0, 0.0, 0.0, 0.0, 0.0, 0.0, 0.0, 0.0, 0.0, 0.0, 0.0, 0.0, 0.0, 0.0, 0.0, 0.0, 0.0, 0.0, 0.0, 0.0, 0.03529411764705881, 0.4784313725490196, 0.9019607843137255, 0.6901960784313725, 0.592156862745098, 0.07843137254901966, 0.0, 0.019607843137254943, 0.0, 0.0, 0.0, 0.0, 0.0, 0.0, 0.0, 0.0, 0.0, 0.0, 0.0, 0.0, 0.0, 0.0, 0.0, 0.0, 0.0, 0.0, 0.0, 0.0, 0.019607843137254943, 0.5686274509803921, 0.8470588235294118, 0.4901960784313726, 0.3529411764705882, 0.07058823529411762, 0.015686274509803977, 0.007843137254901933, 0.0, 0.0, 0.0, 0.0, 0.0, 0.0, 0.0, 0.0, 0.0, 0.0, 0.0, 0.0, 0.0, 0.0, 0.0, 0.0, 0.0, 0.0, 0.0, 0.0, 0.0, 0.1725490196078432, 0.22352941176470587, 0.019607843137254943, 0.07450980392156858, 0.0, 0.0, 0.0, 0.0, 0.0, 0.0, 0.0, 0.0, 0.0, 0.0, 0.0, 0.0, 0.0, 0.0, 0.0, 0.0, 0.0, 0.0, 0.0, 0.0, 0.0, 0.0, 0.0, 0.0, 0.007843137254901933, 0.0, 0.0, 0.0039215686274509665, 0.0, 0.0, 0.03137254901960784, 0.0, 0.0, 0.0, 0.0, 0.0, 0.0, 0.0, 0.0, 0.0, 0.0, 0.0, 0.0, 0.0, 0.0, 0.0, 0.0, 0.0, 0.0, 0.0, 0.0, 0.0039215686274509665, 0.0, 0.007843137254901933, 0.08235294117647063, 0.007843137254901933, 0.0, 0.0, 0.02352941176470591, 0.0, 0.0, 0.0, 0.0, 0.0, 0.0, 0.0, 0.0, 0.0, 0.0, 0.0, 0.0]\n",
            "784\n"
          ],
          "name": "stdout"
        }
      ]
    },
    {
      "cell_type": "code",
      "metadata": {
        "id": "e1x06R-KYQpi",
        "colab_type": "code",
        "outputId": "dcbe7937-f6e5-4c73-ddb5-3e541a318050",
        "colab": {
          "base_uri": "https://localhost:8080/",
          "height": 51
        }
      },
      "source": [
        "print(type(mnist.train.images[4]))\n",
        "print(type(flat_arr)) # These two need to be the same"
      ],
      "execution_count": 149,
      "outputs": [
        {
          "output_type": "stream",
          "text": [
            "<class 'numpy.ndarray'>\n",
            "<class 'list'>\n"
          ],
          "name": "stdout"
        }
      ]
    },
    {
      "cell_type": "code",
      "metadata": {
        "id": "DTs1equyZwQ_",
        "colab_type": "code",
        "colab": {}
      },
      "source": [
        "import numpy as np"
      ],
      "execution_count": 0,
      "outputs": []
    },
    {
      "cell_type": "code",
      "metadata": {
        "id": "hVfFYRYFYeHx",
        "colab_type": "code",
        "colab": {}
      },
      "source": [
        "correct_input = np.asarray(flat_arr, dtype=np.float32)"
      ],
      "execution_count": 0,
      "outputs": []
    },
    {
      "cell_type": "code",
      "metadata": {
        "id": "qUmo4dWtZz9x",
        "colab_type": "code",
        "outputId": "23b934ec-1b5f-43a1-9048-7dc611f6bd7c",
        "colab": {
          "base_uri": "https://localhost:8080/",
          "height": 51
        }
      },
      "source": [
        "type(correct_input)\n",
        "print(correct_input.shape)\n",
        "print(mnist.train.images[4].shape)\n"
      ],
      "execution_count": 150,
      "outputs": [
        {
          "output_type": "stream",
          "text": [
            "(1, 784)\n",
            "(784,)\n"
          ],
          "name": "stdout"
        }
      ]
    },
    {
      "cell_type": "code",
      "metadata": {
        "id": "5iDn0g5Bdfif",
        "colab_type": "code",
        "colab": {}
      },
      "source": [
        "correct_input = correct_input.reshape(784,)"
      ],
      "execution_count": 0,
      "outputs": []
    },
    {
      "cell_type": "code",
      "metadata": {
        "id": "jKlexUEWdnVj",
        "colab_type": "code",
        "outputId": "a494da23-a25c-47d1-8313-03db407e6a03",
        "colab": {
          "base_uri": "https://localhost:8080/",
          "height": 34
        }
      },
      "source": [
        "print(correct_input.shape)"
      ],
      "execution_count": 152,
      "outputs": [
        {
          "output_type": "stream",
          "text": [
            "(784,)\n"
          ],
          "name": "stdout"
        }
      ]
    },
    {
      "cell_type": "code",
      "metadata": {
        "id": "eG_JJtomVqDh",
        "colab_type": "code",
        "colab": {}
      },
      "source": [
        "# Now we have 784 pixels between (0,1) that represent our seven."
      ],
      "execution_count": 0,
      "outputs": []
    },
    {
      "cell_type": "code",
      "metadata": {
        "id": "SvFw8cg-XYW9",
        "colab_type": "code",
        "outputId": "b88b964a-2e73-4075-e092-de643ec3b695",
        "colab": {
          "base_uri": "https://localhost:8080/",
          "height": 411
        }
      },
      "source": [
        "with tf.Session() as sess:\n",
        "  sess.run(init)\n",
        "  for step in range(1000):\n",
        "        batch_x, batch_y = mnist.train.next_batch(100)\n",
        "        sess.run(train, feed_dict={x:batch_x, y_true:batch_y})\n",
        "  \n",
        "  # EVALUATE MODEL\n",
        "  correct_prediction = tf.equal(tf.argmax(y,1), tf.argmax(y_true,1))\n",
        "  \n",
        "  # [True, False, False, ...] ---> [1,0,0,...]\n",
        "  acc = tf.reduce_mean(tf.cast(correct_prediction, tf.float32))\n",
        "  \n",
        "  print(sess.run(acc, feed_dict={x:mnist.test.images, y_true:mnist.test.labels}))\n",
        "  \n",
        "  \n",
        "  \n",
        "  \n",
        "  # New Code\n",
        "  print(w.shape)  # (784, 10)\n",
        "  print(b.shape)  # (10,)\n",
        "  \n",
        "  z_probabilities = np.matmul(correct_input, w) + b  # z = tf.matmul(X, W) + b\n",
        "  \n",
        "  from sklearn.utils.extmath import softmax\n",
        "    \n",
        "  ans = softmax([z_probabilities])\n",
        "  \n",
        "  ans = ans.tolist()\n",
        "  \n",
        "  ans = ans[0]\n",
        "  \n",
        "  print(ans)\n",
        "    \n",
        "  print(max(ans))\n",
        "    \n",
        "  print(round(ans.index(max(ans))))\n",
        "  \n",
        "  plt.imshow(correct_input.reshape(28,28), cmap='gist_gray')\n",
        "  "
      ],
      "execution_count": 248,
      "outputs": [
        {
          "output_type": "stream",
          "text": [
            "0.9169\n",
            "(784, 10)\n",
            "(10,)\n",
            "[0.0006002293666824698, 0.16043692827224731, 0.324729859828949, 0.2322276085615158, 5.156536644790322e-06, 0.015792017802596092, 0.001735102036036551, 0.0003341029805596918, 0.2635819911956787, 0.0005569859640672803]\n",
            "0.324729859828949\n",
            "2\n"
          ],
          "name": "stdout"
        },
        {
          "output_type": "display_data",
          "data": {
            "image/png": "[encoded data removed]",
            "text/plain": [
              "<Figure size 432x288 with 1 Axes>"
            ]
          },
          "metadata": {
            "tags": []
          }
        }
      ]
    },
    {
      "cell_type": "code",
      "metadata": {
        "id": "77iRVavRXYgc",
        "colab_type": "code",
        "colab": {}
      },
      "source": [
        ""
      ],
      "execution_count": 0,
      "outputs": []
    },
    {
      "cell_type": "code",
      "metadata": {
        "id": "2R6FL9H-XYjP",
        "colab_type": "code",
        "colab": {}
      },
      "source": [
        ""
      ],
      "execution_count": 0,
      "outputs": []
    },
    {
      "cell_type": "code",
      "metadata": {
        "id": "ZjFokqpJXYl4",
        "colab_type": "code",
        "colab": {}
      },
      "source": [
        ""
      ],
      "execution_count": 0,
      "outputs": []
    },
    {
      "cell_type": "code",
      "metadata": {
        "id": "QN1ro5AAXYo4",
        "colab_type": "code",
        "colab": {}
      },
      "source": [
        ""
      ],
      "execution_count": 0,
      "outputs": []
    },
    {
      "cell_type": "code",
      "metadata": {
        "id": "bjjTB7GNXYrh",
        "colab_type": "code",
        "colab": {}
      },
      "source": [
        ""
      ],
      "execution_count": 0,
      "outputs": []
    },
    {
      "cell_type": "code",
      "metadata": {
        "id": "uCF4m58ZXYug",
        "colab_type": "code",
        "colab": {}
      },
      "source": [
        ""
      ],
      "execution_count": 0,
      "outputs": []
    }
  ]
}